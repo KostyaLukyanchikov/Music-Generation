{
 "cells": [
  {
   "cell_type": "code",
   "execution_count": 1,
   "metadata": {},
   "outputs": [
    {
     "name": "stderr",
     "output_type": "stream",
     "text": [
      "Using TensorFlow backend.\n"
     ]
    }
   ],
   "source": [
    "import os\n",
    "import numpy as np\n",
    "import glob\n",
    "import sys\n",
    "import pickle\n",
    "import tensorflow\n",
    "import matplotlib.pyplot as plt\n",
    "import time\n",
    "\n",
    "from tensorflow import keras\n",
    "from tensorflow.keras.layers import LSTM, Input, Dropout, Dense, Activation, Embedding, Concatenate, Reshape\n",
    "from tensorflow.keras.layers import Flatten, RepeatVector, Permute, TimeDistributed\n",
    "from tensorflow.keras.layers import Multiply, Lambda, Softmax\n",
    "from tensorflow.compat.v1.keras import backend as K\n",
    "from tensorflow.keras.models import Model\n",
    "from tensorflow.keras.optimizers import RMSprop\n",
    "from tensorflow.keras.callbacks import ModelCheckpoint, EarlyStopping, TensorBoard, CSVLogger\n",
    "from tensorflow.keras.utils import plot_model\n",
    "from keras.utils import np_utils\n",
    "\n",
    "from tqdm import notebook\n",
    "from music21 import corpus, converter, instrument, note, stream, chord, duration\n",
    "from utils import *\n",
    "import graphviz"
   ]
  },
  {
   "cell_type": "code",
   "execution_count": 2,
   "metadata": {},
   "outputs": [],
   "source": [
    "files = get_all_files('beethoven_mozart')"
   ]
  },
  {
   "cell_type": "code",
   "execution_count": 3,
   "metadata": {
    "scrolled": true
   },
   "outputs": [
    {
     "name": "stdout",
     "output_type": "stream",
     "text": [
      "73 files in total\n"
     ]
    },
    {
     "data": {
      "application/vnd.jupyter.widget-view+json": {
       "model_id": "05658c8a873f45c4b3486e6c1ab92146",
       "version_major": 2,
       "version_minor": 0
      },
      "text/plain": [
       "HBox(children=(FloatProgress(value=0.0, max=73.0), HTML(value='')))"
      ]
     },
     "metadata": {},
     "output_type": "display_data"
    },
    {
     "name": "stdout",
     "output_type": "stream",
     "text": [
      "1 Parsing beethoven_mozart\\appass_1_format0.mid\n",
      "2 Parsing beethoven_mozart\\appass_2_format0.mid\n",
      "3 Parsing beethoven_mozart\\appass_3_format0.mid\n",
      "4 Parsing beethoven_mozart\\beethoven_hammerklavier_1_format0.mid\n",
      "5 Parsing beethoven_mozart\\beethoven_hammerklavier_2_format0.mid\n",
      "6 Parsing beethoven_mozart\\beethoven_hammerklavier_3_format0.mid\n",
      "7 Parsing beethoven_mozart\\beethoven_hammerklavier_4_format0.mid\n",
      "8 Parsing beethoven_mozart\\beethoven_les_adieux_1_format0.mid\n",
      "9 Parsing beethoven_mozart\\beethoven_les_adieux_2_format0.mid\n",
      "10 Parsing beethoven_mozart\\beethoven_les_adieux_3_format0.mid\n",
      "11 Parsing beethoven_mozart\\beethoven_opus10_1_format0.mid\n",
      "12 Parsing beethoven_mozart\\beethoven_opus10_2_format0.mid\n",
      "13 Parsing beethoven_mozart\\beethoven_opus10_3_format0.mid\n",
      "14 Parsing beethoven_mozart\\beethoven_opus22_1_format0.mid\n",
      "15 Parsing beethoven_mozart\\beethoven_opus22_2_format0.mid\n",
      "16 Parsing beethoven_mozart\\beethoven_opus22_4_format0.mid\n",
      "17 Parsing beethoven_mozart\\beethoven_opus90_1_format0.mid\n",
      "18 Parsing beethoven_mozart\\beethoven_opus90_2_format0.mid\n",
      "19 Parsing beethoven_mozart\\elise_format0.mid\n",
      "20 Parsing beethoven_mozart\\mond_1_format0.mid\n",
      "21 Parsing beethoven_mozart\\mond_2_format0.mid\n",
      "22 Parsing beethoven_mozart\\mond_3_format0.mid\n",
      "23 Parsing beethoven_mozart\\mozk175a.mid\n",
      "24 Parsing beethoven_mozart\\mozk175b.mid\n",
      "25 Parsing beethoven_mozart\\mozk175c.mid\n",
      "26 Parsing beethoven_mozart\\mozk246a.mid\n",
      "27 Parsing beethoven_mozart\\mozk246b.mid\n",
      "28 Parsing beethoven_mozart\\mozk246c.mid\n",
      "29 Parsing beethoven_mozart\\mozk281a.mid\n",
      "30 Parsing beethoven_mozart\\mozk281b.mid\n",
      "31 Parsing beethoven_mozart\\mozk281c.mid\n",
      "32 Parsing beethoven_mozart\\mozk309a.mid\n",
      "33 Parsing beethoven_mozart\\mozk309b.mid\n",
      "34 Parsing beethoven_mozart\\mozk309c.mid\n",
      "35 Parsing beethoven_mozart\\mozk310a.mid\n",
      "36 Parsing beethoven_mozart\\mozk310b.mid\n",
      "37 Parsing beethoven_mozart\\mozk310c.mid\n",
      "38 Parsing beethoven_mozart\\mozk311a.mid\n",
      "39 Parsing beethoven_mozart\\mozk311b.mid\n",
      "40 Parsing beethoven_mozart\\mozk311c.mid\n",
      "41 Parsing beethoven_mozart\\mozk331a.mid\n",
      "42 Parsing beethoven_mozart\\mozk331b.mid\n",
      "43 Parsing beethoven_mozart\\mozk331c.mid\n",
      "44 Parsing beethoven_mozart\\mozk332a.mid\n",
      "45 Parsing beethoven_mozart\\mozk332b.mid\n",
      "46 Parsing beethoven_mozart\\mozk332c.mid\n",
      "47 Parsing beethoven_mozart\\mozk333a.mid\n",
      "48 Parsing beethoven_mozart\\mozk333b.mid\n",
      "49 Parsing beethoven_mozart\\mozk333c.mid\n",
      "50 Parsing beethoven_mozart\\mozk450a.mid\n",
      "51 Parsing beethoven_mozart\\mozk450b.mid\n",
      "52 Parsing beethoven_mozart\\mozk450c.mid\n",
      "53 Parsing beethoven_mozart\\mozk453a.mid\n",
      "54 Parsing beethoven_mozart\\mozk453b.mid\n",
      "55 Parsing beethoven_mozart\\mozk453c.mid\n",
      "56 Parsing beethoven_mozart\\mozk466a.mid\n",
      "57 Parsing beethoven_mozart\\mozk466b.mid\n",
      "58 Parsing beethoven_mozart\\mozk466c.mid\n",
      "59 Parsing beethoven_mozart\\mozk467a.mid\n",
      "60 Parsing beethoven_mozart\\mozk467b.mid\n",
      "61 Parsing beethoven_mozart\\mozk467c.mid\n",
      "62 Parsing beethoven_mozart\\mozk488a.mid\n",
      "63 Parsing beethoven_mozart\\mozk488b.mid\n",
      "64 Parsing beethoven_mozart\\mozk488c.mid\n",
      "65 Parsing beethoven_mozart\\mozk545a.mid\n",
      "66 Parsing beethoven_mozart\\mozk545b.mid\n",
      "67 Parsing beethoven_mozart\\mozk545c.mid\n",
      "68 Parsing beethoven_mozart\\pathetique_1_format0.mid\n",
      "69 Parsing beethoven_mozart\\pathetique_2_format0.mid\n",
      "70 Parsing beethoven_mozart\\pathetique_3_format0.mid\n",
      "71 Parsing beethoven_mozart\\waldstein_1_format0.mid\n",
      "72 Parsing beethoven_mozart\\waldstein_2_format0.mid\n",
      "73 Parsing beethoven_mozart\\waldstein_3_format0.mid\n",
      "\n"
     ]
    }
   ],
   "source": [
    "notes, durations, velocities = all_scores(files)"
   ]
  },
  {
   "cell_type": "code",
   "execution_count": 4,
   "metadata": {},
   "outputs": [
    {
     "name": "stdout",
     "output_type": "stream",
     "text": [
      "417 483 30\n"
     ]
    }
   ],
   "source": [
    "print(len(set(notes)), len(set(durations)), len(set(velocities)))"
   ]
  },
  {
   "cell_type": "code",
   "execution_count": 5,
   "metadata": {},
   "outputs": [],
   "source": [
    "distincts, lookups = create_distincts_and_lookups(notes, durations, velocities)\n",
    "ndv = [notes, durations, velocities]"
   ]
  },
  {
   "cell_type": "code",
   "execution_count": 6,
   "metadata": {},
   "outputs": [],
   "source": [
    "with open('Pickle\\\\beethoven_mozart_n_d_v', 'wb') as f:\n",
    "    pickle.dump(ndv, f)\n",
    "with open('Pickle\\\\beethoven_mozart_distincts', 'wb') as f:\n",
    "    pickle.dump(distincts, f)\n",
    "with open('Pickle\\\\beethoven_mozart_lookups', 'wb') as f:\n",
    "    pickle.dump(lookups, f)"
   ]
  },
  {
   "cell_type": "code",
   "execution_count": null,
   "metadata": {},
   "outputs": [],
   "source": []
  }
 ],
 "metadata": {
  "kernelspec": {
   "display_name": "Python 3",
   "language": "python",
   "name": "python3"
  },
  "language_info": {
   "codemirror_mode": {
    "name": "ipython",
    "version": 3
   },
   "file_extension": ".py",
   "mimetype": "text/x-python",
   "name": "python",
   "nbconvert_exporter": "python",
   "pygments_lexer": "ipython3",
   "version": "3.7.7"
  }
 },
 "nbformat": 4,
 "nbformat_minor": 4
}
