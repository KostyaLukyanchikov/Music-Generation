{
 "cells": [
  {
   "cell_type": "code",
   "execution_count": 10,
   "metadata": {},
   "outputs": [],
   "source": [
    "import os\n",
    "import numpy as np\n",
    "import glob\n",
    "import sys\n",
    "import pickle\n",
    "import tensorflow\n",
    "import matplotlib.pyplot as plt\n",
    "import time\n",
    "import random\n",
    "from tqdm import notebook\n",
    "from music21 import corpus, converter, instrument, note, stream, chord, duration\n",
    "from utils import *\n",
    "from midi_manipulation import *\n",
    "import graphviz"
   ]
  },
  {
   "cell_type": "code",
   "execution_count": 2,
   "metadata": {},
   "outputs": [],
   "source": [
    "files = get_all_files('beethoven_mozart')"
   ]
  },
  {
   "cell_type": "code",
   "execution_count": 3,
   "metadata": {},
   "outputs": [
    {
     "data": {
      "text/plain": [
       "'beethoven_mozart\\\\beethoven_opus10_1_format0.mid'"
      ]
     },
     "execution_count": 3,
     "metadata": {},
     "output_type": "execute_result"
    }
   ],
   "source": [
    "file = files[10]\n",
    "file"
   ]
  },
  {
   "cell_type": "code",
   "execution_count": 4,
   "metadata": {},
   "outputs": [],
   "source": [
    "nsm = midiToNoteStateMatrix(file)"
   ]
  },
  {
   "cell_type": "code",
   "execution_count": 5,
   "metadata": {},
   "outputs": [],
   "source": [
    "new_nsm = nsm[0:500]\n",
    "timestr = time.strftime(\"%Y%m%d-%H%M%S\")\n",
    "noteStateMatrixToMidi(new_nsm, os.path.join('real_examples', 'output-' + str(timestr) + '.mid'))"
   ]
  },
  {
   "cell_type": "code",
   "execution_count": 57,
   "metadata": {},
   "outputs": [],
   "source": [
    "def random_sample(files, seq_len):\n",
    "    \n",
    "    random_file_index = random.randint(0, len(files) - 1)\n",
    "    random_file = files[random_file_index]\n",
    "    \n",
    "    nsm = midiToNoteStateMatrix(random_file)\n",
    "    \n",
    "    random_sample_index = random.randint(0, len(nsm) - seq_len - 1)\n",
    "    seq = nsm[random_sample_index : random_sample_index + seq_len]\n",
    "    \n",
    "    return seq, random_file"
   ]
  },
  {
   "cell_type": "code",
   "execution_count": 63,
   "metadata": {},
   "outputs": [],
   "source": [
    "def write_sample(sample_seq, output_folder='real_examples'):\n",
    "    timestr = time.strftime(\"%Y%m%d-%H%M%S\")\n",
    "    noteStateMatrixToMidi(sample_seq, os.path.join(output_folder, 'output-' + str(timestr) + '.mid'))"
   ]
  },
  {
   "cell_type": "code",
   "execution_count": 72,
   "metadata": {},
   "outputs": [],
   "source": [
    "seq_sample, fname = random_sample(files, 64)"
   ]
  },
  {
   "cell_type": "code",
   "execution_count": 73,
   "metadata": {},
   "outputs": [
    {
     "data": {
      "text/plain": [
       "(64, 72, 3)"
      ]
     },
     "execution_count": 73,
     "metadata": {},
     "output_type": "execute_result"
    }
   ],
   "source": [
    "seq_sample.shape"
   ]
  },
  {
   "cell_type": "code",
   "execution_count": 74,
   "metadata": {},
   "outputs": [
    {
     "data": {
      "text/plain": [
       "'beethoven_mozart\\\\mozk450a.mid'"
      ]
     },
     "execution_count": 74,
     "metadata": {},
     "output_type": "execute_result"
    }
   ],
   "source": [
    "fname"
   ]
  },
  {
   "cell_type": "code",
   "execution_count": 75,
   "metadata": {},
   "outputs": [],
   "source": [
    "write_sample(seq_sample)"
   ]
  },
  {
   "cell_type": "code",
   "execution_count": 76,
   "metadata": {},
   "outputs": [],
   "source": [
    "for i in range(10):\n",
    "    seq_sample, fname = random_sample(files, 64)\n",
    "    write_sample(seq_sample)"
   ]
  },
  {
   "cell_type": "code",
   "execution_count": null,
   "metadata": {},
   "outputs": [],
   "source": []
  }
 ],
 "metadata": {
  "kernelspec": {
   "display_name": "ml",
   "language": "python",
   "name": "ml"
  },
  "language_info": {
   "codemirror_mode": {
    "name": "ipython",
    "version": 3
   },
   "file_extension": ".py",
   "mimetype": "text/x-python",
   "name": "python",
   "nbconvert_exporter": "python",
   "pygments_lexer": "ipython3",
   "version": "3.7.7"
  }
 },
 "nbformat": 4,
 "nbformat_minor": 4
}
