{
 "cells": [
  {
   "cell_type": "code",
   "execution_count": 1,
   "metadata": {},
   "outputs": [
    {
     "name": "stderr",
     "output_type": "stream",
     "text": [
      "Using TensorFlow backend.\n"
     ]
    }
   ],
   "source": [
    "import os\n",
    "import numpy as np\n",
    "import glob\n",
    "import sys\n",
    "import pickle\n",
    "from tqdm import notebook\n",
    "\n",
    "from music21 import corpus, converter, instrument, note, chord\n",
    "from utils import *\n",
    "from generate import *\n",
    "from model import create_network\n",
    "\n",
    "import tensorflow\n",
    "from tensorflow import keras\n",
    "\n",
    "from tensorflow.keras.layers import LSTM, Input, Dropout, Dense, Activation, Embedding, Concatenate, Reshape\n",
    "from tensorflow.keras.layers import Flatten, RepeatVector, Permute, TimeDistributed\n",
    "from tensorflow.keras.layers import Multiply, Lambda, Softmax\n",
    "from tensorflow.compat.v1.keras import backend as K\n",
    "from tensorflow.keras.models import Model\n",
    "from tensorflow.keras.optimizers import RMSprop\n",
    "from tensorflow.keras.callbacks import ModelCheckpoint, EarlyStopping, TensorBoard\n",
    "from tensorflow.keras.utils import plot_model\n",
    "\n",
    "from keras.utils import np_utils"
   ]
  },
  {
   "cell_type": "code",
   "execution_count": 2,
   "metadata": {},
   "outputs": [],
   "source": [
    "with open('Pickle\\\\beethoven_mozart_n_d_v', 'rb') as f:\n",
    "    ndv = pickle.load(f)\n",
    "with open('Pickle\\\\beethoven_mozart_distincts', 'rb') as f:\n",
    "    distincts = pickle.load(f)\n",
    "with open('Pickle\\\\beethoven_mozart_lookups', 'rb') as f:\n",
    "    lookups = pickle.load(f)\n",
    "    \n",
    "notes = ndv[0]\n",
    "durations = ndv[1]\n",
    "velocities = ndv[2]\n",
    "\n",
    "network_input, network_output = prepare_sequences(notes, durations, velocities, lookups, distincts, 100)\n",
    "\n",
    "notes, durations, velocities = ndv\n",
    "\n",
    "note_to_int, int_to_note, duration_to_int, int_to_duration, velocity_to_int, int_to_velocity = lookups\n",
    "\n",
    "n_notes = distincts[1]\n",
    "n_durations = distincts[3]\n",
    "n_velocities = distincts[5]\n",
    "embed_size = 100\n",
    "rnn_units = 512\n",
    "\n",
    "model = create_network(n_notes, n_durations, n_velocities, embed_size, rnn_units)\n",
    "\n",
    "weights_folder = 'Weights'\n",
    "logs_base_dir = \"Logs\"\n",
    "history_folder = \"History\"\n",
    "\n",
    "callbacks_list = make_callbacks_list(weights_folder, logs_base_dir, history_folder)\n",
    "model.load_weights(os.path.join(weights_folder, \"weights.h5\"))"
   ]
  },
  {
   "cell_type": "code",
   "execution_count": 3,
   "metadata": {},
   "outputs": [
    {
     "data": {
      "text/plain": [
       "<matplotlib.axes._subplots.AxesSubplot at 0x2b7ff2398c8>"
      ]
     },
     "execution_count": 3,
     "metadata": {},
     "output_type": "execute_result"
    },
    {
     "data": {
      "image/png": "[encoded data removed]",
      "text/plain": [
       "<Figure size 432x288 with 1 Axes>"
      ]
     },
     "metadata": {
      "image/png": {
       "height": 248,
       "width": 362
      },
      "needs_background": "light"
     },
     "output_type": "display_data"
    }
   ],
   "source": [
    "import pandas as pd\n",
    "log_data = pd.read_csv(os.path.join(history_folder, 'model_history_log.csv'))\n",
    "log_data['loss'].plot()"
   ]
  },
  {
   "cell_type": "code",
   "execution_count": 5,
   "metadata": {},
   "outputs": [],
   "source": [
    "input_note_seq, input_duration_seq, input_velocity_seq = build_sequence(100, notes, durations, velocities)\n",
    "whole_pattern, gen_pattern = generate_sequence(model, input_note_seq,\n",
    "                                               input_duration_seq,\n",
    "                                               input_velocity_seq,\n",
    "                                               note_to_int,\n",
    "                                               duration_to_int,\n",
    "                                               velocity_to_int,\n",
    "                                               100, 0.5)\n",
    "midi_out_gen = create_midi(gen_pattern, int_to_note, int_to_duration, int_to_velocity)\n",
    "write_midi(midi_out_gen)\n",
    "\n",
    "whole_pattern, gen_pattern = generate_sequence(model, input_note_seq,\n",
    "                                               input_duration_seq,\n",
    "                                               input_velocity_seq,\n",
    "                                               note_to_int,\n",
    "                                               duration_to_int,\n",
    "                                               velocity_to_int,\n",
    "                                               100, 1)\n",
    "midi_out_gen = create_midi(gen_pattern, int_to_note, int_to_duration, int_to_velocity)\n",
    "write_midi(midi_out_gen)\n",
    "\n",
    "whole_pattern, gen_pattern = generate_sequence(model, input_note_seq,\n",
    "                                               input_duration_seq,\n",
    "                                               input_velocity_seq,\n",
    "                                               note_to_int,\n",
    "                                               duration_to_int,\n",
    "                                               velocity_to_int,\n",
    "                                               100, 1.5)\n",
    "midi_out_gen = create_midi(gen_pattern, int_to_note, int_to_duration, int_to_velocity)\n",
    "write_midi(midi_out_gen)"
   ]
  },
  {
   "cell_type": "code",
   "execution_count": null,
   "metadata": {},
   "outputs": [],
   "source": []
  }
 ],
 "metadata": {
  "kernelspec": {
   "display_name": "Python 3",
   "language": "python",
   "name": "python3"
  },
  "language_info": {
   "codemirror_mode": {
    "name": "ipython",
    "version": 3
   },
   "file_extension": ".py",
   "mimetype": "text/x-python",
   "name": "python",
   "nbconvert_exporter": "python",
   "pygments_lexer": "ipython3",
   "version": "3.7.7"
  }
 },
 "nbformat": 4,
 "nbformat_minor": 4
}
