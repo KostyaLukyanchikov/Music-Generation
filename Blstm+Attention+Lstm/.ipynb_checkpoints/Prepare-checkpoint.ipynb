{
 "cells": [
  {
   "cell_type": "code",
   "execution_count": 1,
   "metadata": {},
   "outputs": [
    {
     "name": "stderr",
     "output_type": "stream",
     "text": [
      "Using TensorFlow backend.\n"
     ]
    }
   ],
   "source": [
    "import os\n",
    "import numpy as np\n",
    "import glob\n",
    "import sys\n",
    "import pickle\n",
    "import tensorflow\n",
    "import matplotlib.pyplot as plt\n",
    "import time\n",
    "\n",
    "from tensorflow import keras\n",
    "from tensorflow.keras.layers import LSTM, Input, Dropout, Dense, Activation, Embedding, Concatenate, Reshape\n",
    "from tensorflow.keras.layers import Flatten, RepeatVector, Permute, TimeDistributed\n",
    "from tensorflow.keras.layers import Multiply, Lambda, Softmax\n",
    "from tensorflow.compat.v1.keras import backend as K\n",
    "from tensorflow.keras.models import Model\n",
    "from tensorflow.keras.optimizers import RMSprop\n",
    "from tensorflow.keras.callbacks import ModelCheckpoint, EarlyStopping, TensorBoard, CSVLogger\n",
    "from tensorflow.keras.utils import plot_model\n",
    "from keras.utils import np_utils\n",
    "\n",
    "from tqdm import notebook\n",
    "from music21 import corpus, converter, instrument, note, stream, chord, duration\n",
    "from utils import *\n",
    "import graphviz"
   ]
  },
  {
   "cell_type": "code",
   "execution_count": 2,
   "metadata": {},
   "outputs": [],
   "source": [
    "files = get_all_files('beethoven_mozart')"
   ]
  },
  {
   "cell_type": "code",
   "execution_count": null,
   "metadata": {
    "scrolled": true
   },
   "outputs": [
    {
     "name": "stdout",
     "output_type": "stream",
     "text": [
      "73 files in total\n"
     ]
    },
    {
     "data": {
      "application/vnd.jupyter.widget-view+json": {
       "model_id": "05658c8a873f45c4b3486e6c1ab92146",
       "version_major": 2,
       "version_minor": 0
      },
      "text/plain": [
       "HBox(children=(FloatProgress(value=0.0, max=73.0), HTML(value='')))"
      ]
     },
     "metadata": {},
     "output_type": "display_data"
    },
    {
     "name": "stdout",
     "output_type": "stream",
     "text": [
      "1 Parsing beethoven_mozart\\appass_1_format0.mid\n",
      "2 Parsing beethoven_mozart\\appass_2_format0.mid\n",
      "3 Parsing beethoven_mozart\\appass_3_format0.mid\n"
     ]
    }
   ],
   "source": [
    "notes, durations, velocities = all_scores(files)"
   ]
  },
  {
   "cell_type": "code",
   "execution_count": null,
   "metadata": {},
   "outputs": [],
   "source": [
    "print(len(set(notes)), len(set(durations)), len(set(velocities)))"
   ]
  },
  {
   "cell_type": "code",
   "execution_count": null,
   "metadata": {},
   "outputs": [],
   "source": [
    "distincts, lookups = create_distincts_and_lookups(notes, durations, velocities)\n",
    "ndv = [notes, durations, velocities]"
   ]
  },
  {
   "cell_type": "code",
   "execution_count": null,
   "metadata": {},
   "outputs": [],
   "source": [
    "with open('Pickle\\\\beethoven_mozart_n_d_v', 'wb') as f:\n",
    "    pickle.dump(ndv, f)\n",
    "with open('Pickle\\\\beethoven_mozart_distincts', 'wb') as f:\n",
    "    pickle.dump(distincts, f)\n",
    "with open('Pickle\\\\beethoven_mozart_lookups', 'wb') as f:\n",
    "    pickle.dump(lookups, f)"
   ]
  }
 ],
 "metadata": {
  "kernelspec": {
   "display_name": "Python 3",
   "language": "python",
   "name": "python3"
  },
  "language_info": {
   "codemirror_mode": {
    "name": "ipython",
    "version": 3
   },
   "file_extension": ".py",
   "mimetype": "text/x-python",
   "name": "python",
   "nbconvert_exporter": "python",
   "pygments_lexer": "ipython3",
   "version": "3.7.7"
  }
 },
 "nbformat": 4,
 "nbformat_minor": 4
}
