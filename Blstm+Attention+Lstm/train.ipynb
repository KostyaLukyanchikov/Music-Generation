{
 "cells": [
  {
   "cell_type": "code",
   "execution_count": 1,
   "metadata": {},
   "outputs": [
    {
     "name": "stderr",
     "output_type": "stream",
     "text": [
      "Using TensorFlow backend.\n"
     ]
    }
   ],
   "source": [
    "import os\n",
    "import numpy as np\n",
    "import glob\n",
    "import sys\n",
    "import pickle\n",
    "from tqdm import notebook\n",
    "\n",
    "from music21 import corpus, converter, instrument, note, chord\n",
    "from utils import *\n",
    "from generate import *\n",
    "from model import create_network\n",
    "\n",
    "import tensorflow\n",
    "from tensorflow import keras\n",
    "\n",
    "from tensorflow.keras.layers import LSTM, Input, Dropout, Dense, Activation, Embedding, Concatenate, Reshape\n",
    "from tensorflow.keras.layers import Flatten, RepeatVector, Permute, TimeDistributed\n",
    "from tensorflow.keras.layers import Multiply, Lambda, Softmax\n",
    "from tensorflow.compat.v1.keras import backend as K\n",
    "from tensorflow.keras.models import Model\n",
    "from tensorflow.keras.optimizers import Adam\n",
    "from tensorflow.keras.callbacks import ModelCheckpoint, EarlyStopping, TensorBoard\n",
    "from tensorflow.keras.utils import plot_model\n",
    "\n",
    "from keras.utils import np_utils"
   ]
  },
  {
   "cell_type": "code",
   "execution_count": 2,
   "metadata": {},
   "outputs": [],
   "source": [
    "with open('Pickle\\\\beethoven_mozart_n_d_v', 'rb') as f:\n",
    "    ndv = pickle.load(f)\n",
    "with open('Pickle\\\\beethoven_mozart_distincts', 'rb') as f:\n",
    "    distincts = pickle.load(f)\n",
    "with open('Pickle\\\\beethoven_mozart_lookups', 'rb') as f:\n",
    "    lookups = pickle.load(f)"
   ]
  },
  {
   "cell_type": "code",
   "execution_count": 3,
   "metadata": {},
   "outputs": [],
   "source": [
    "notes = ndv[0]\n",
    "durations = ndv[1]\n",
    "velocities = ndv[2]"
   ]
  },
  {
   "cell_type": "code",
   "execution_count": 4,
   "metadata": {},
   "outputs": [],
   "source": [
    "network_input, network_output = prepare_sequences(notes, durations, velocities, lookups, distincts, 100)"
   ]
  },
  {
   "cell_type": "code",
   "execution_count": 5,
   "metadata": {},
   "outputs": [
    {
     "data": {
      "text/plain": [
       "(194341, 100)"
      ]
     },
     "execution_count": 5,
     "metadata": {},
     "output_type": "execute_result"
    }
   ],
   "source": [
    "network_input[0].shape"
   ]
  },
  {
   "cell_type": "code",
   "execution_count": 6,
   "metadata": {},
   "outputs": [],
   "source": [
    "notes, durations, velocities = ndv\n",
    "\n",
    "note_to_int, int_to_note, duration_to_int, int_to_duration, velocity_to_int, int_to_velocity = lookups"
   ]
  },
  {
   "cell_type": "code",
   "execution_count": 7,
   "metadata": {},
   "outputs": [],
   "source": [
    "n_notes = distincts[1]\n",
    "n_durations = distincts[3]\n",
    "n_velocities = distincts[5]\n",
    "embed_size = 100\n",
    "rnn_units = 512"
   ]
  },
  {
   "cell_type": "code",
   "execution_count": 8,
   "metadata": {},
   "outputs": [
    {
     "data": {
      "text/plain": [
       "483"
      ]
     },
     "execution_count": 8,
     "metadata": {},
     "output_type": "execute_result"
    }
   ],
   "source": [
    "n_durations"
   ]
  },
  {
   "cell_type": "code",
   "execution_count": 9,
   "metadata": {
    "scrolled": false
   },
   "outputs": [
    {
     "name": "stdout",
     "output_type": "stream",
     "text": [
      "Model: \"model\"\n",
      "__________________________________________________________________________________________________\n",
      "Layer (type)                    Output Shape         Param #     Connected to                     \n",
      "==================================================================================================\n",
      "input_1 (InputLayer)            [(None, None)]       0                                            \n",
      "__________________________________________________________________________________________________\n",
      "input_2 (InputLayer)            [(None, None)]       0                                            \n",
      "__________________________________________________________________________________________________\n",
      "input_3 (InputLayer)            [(None, None)]       0                                            \n",
      "__________________________________________________________________________________________________\n",
      "embedding (Embedding)           (None, None, 100)    41700       input_1[0][0]                    \n",
      "__________________________________________________________________________________________________\n",
      "embedding_1 (Embedding)         (None, None, 100)    48300       input_2[0][0]                    \n",
      "__________________________________________________________________________________________________\n",
      "embedding_2 (Embedding)         (None, None, 100)    3000        input_3[0][0]                    \n",
      "__________________________________________________________________________________________________\n",
      "concatenate (Concatenate)       (None, None, 300)    0           embedding[0][0]                  \n",
      "                                                                 embedding_1[0][0]                \n",
      "                                                                 embedding_2[0][0]                \n",
      "__________________________________________________________________________________________________\n",
      "bidirectional (Bidirectional)   (None, None, 1024)   3330048     concatenate[0][0]                \n",
      "__________________________________________________________________________________________________\n",
      "batch_normalization (BatchNorma (None, None, 1024)   4096        bidirectional[0][0]              \n",
      "__________________________________________________________________________________________________\n",
      "seq_self_attention (SeqSelfAtte (None, None, 1024)   65601       batch_normalization[0][0]        \n",
      "__________________________________________________________________________________________________\n",
      "lstm_1 (LSTM)                   (None, 512)          3147776     seq_self_attention[0][0]         \n",
      "__________________________________________________________________________________________________\n",
      "batch_normalization_1 (BatchNor (None, 512)          2048        lstm_1[0][0]                     \n",
      "__________________________________________________________________________________________________\n",
      "pitch (Dense)                   (None, 417)          213921      batch_normalization_1[0][0]      \n",
      "__________________________________________________________________________________________________\n",
      "duration (Dense)                (None, 483)          247779      batch_normalization_1[0][0]      \n",
      "__________________________________________________________________________________________________\n",
      "velocity (Dense)                (None, 30)           15390       batch_normalization_1[0][0]      \n",
      "==================================================================================================\n",
      "Total params: 7,119,659\n",
      "Trainable params: 7,116,587\n",
      "Non-trainable params: 3,072\n",
      "__________________________________________________________________________________________________\n"
     ]
    }
   ],
   "source": [
    "model = create_network(n_notes, n_durations, n_velocities, embed_size, rnn_units)\n",
    "model.summary()"
   ]
  },
  {
   "cell_type": "raw",
   "metadata": {},
   "source": [
    "import os     \n",
    "os.environ[\"PATH\"] += os.pathsep + 'C:\\\\Users\\\\Lukya\\\\anaconda3\\\\envs\\\\ml\\\\Library\\\\bin\\\\graphviz'\n",
    "plot_model(model, to_file=r'C:\\\\Users\\\\Lukya\\\\MachineLearning\\\\DataSets\\\\MusicGeneration\\\\Graphs\\\\Model_lstm-lstm.png', show_shapes = True, show_layer_names = True)"
   ]
  },
  {
   "cell_type": "code",
   "execution_count": 10,
   "metadata": {},
   "outputs": [],
   "source": [
    "weights_folder = 'Weights'\n",
    "logs_base_dir = \"Logs\"\n",
    "history_folder = \"History\""
   ]
  },
  {
   "cell_type": "code",
   "execution_count": 11,
   "metadata": {},
   "outputs": [],
   "source": [
    "callbacks_list = make_callbacks_list(weights_folder, logs_base_dir, history_folder)"
   ]
  },
  {
   "cell_type": "code",
   "execution_count": 13,
   "metadata": {},
   "outputs": [
    {
     "data": {
      "text/plain": [
       "Reusing TensorBoard on port 6006 (pid 13660), started 0:00:12 ago. (Use '!kill 13660' to kill it.)"
      ]
     },
     "metadata": {},
     "output_type": "display_data"
    },
    {
     "data": {
      "text/html": [
       "\n",
       "      <iframe id=\"tensorboard-frame-ecb6fc2bbd14dc8e\" width=\"100%\" height=\"800\" frameborder=\"0\">\n",
       "      </iframe>\n",
       "      <script>\n",
       "        (function() {\n",
       "          const frame = document.getElementById(\"tensorboard-frame-ecb6fc2bbd14dc8e\");\n",
       "          const url = new URL(\"/\", window.location);\n",
       "          url.port = 6006;\n",
       "          frame.src = url;\n",
       "        })();\n",
       "      </script>\n",
       "  "
      ],
      "text/plain": [
       "<IPython.core.display.HTML object>"
      ]
     },
     "metadata": {},
     "output_type": "display_data"
    }
   ],
   "source": [
    "%reload_ext tensorboard\n",
    "os.makedirs(logs_base_dir, exist_ok=True)\n",
    "%tensorboard --logdir {makeWindowsCmdPath(logs_base_dir)} --reload_multifile True"
   ]
  },
  {
   "cell_type": "code",
   "execution_count": 18,
   "metadata": {},
   "outputs": [],
   "source": [
    "model.load_weights(os.path.join(weights_folder, \"weights.h5\"))"
   ]
  },
  {
   "cell_type": "code",
   "execution_count": 15,
   "metadata": {
    "scrolled": true
   },
   "outputs": [
    {
     "name": "stdout",
     "output_type": "stream",
     "text": [
      "Train on 194341 samples\n",
      "Epoch 1/100\n",
      "194341/194341 [==============================] - 1085s 6ms/sample - loss: 6.4729 - pitch_loss: 3.8890 - duration_loss: 1.2233 - velocity_loss: 1.3603 - pitch_accuracy: 0.1153 - duration_accuracy: 0.6776 - velocity_accuracy: 0.5647\n",
      "Epoch 2/100\n",
      "194341/194341 [==============================] - 1091s 6ms/sample - loss: 5.3691 - pitch_loss: 3.2577 - duration_loss: 0.9563 - velocity_loss: 1.1550 - pitch_accuracy: 0.1860 - duration_accuracy: 0.7112 - velocity_accuracy: 0.6123\n",
      "Epoch 3/100\n",
      "194341/194341 [==============================] - 1072s 6ms/sample - loss: 4.8634 - pitch_loss: 2.9294 - duration_loss: 0.8649 - velocity_loss: 1.0691 - pitch_accuracy: 0.2542 - duration_accuracy: 0.7371 - velocity_accuracy: 0.6396\n",
      "Epoch 4/100\n",
      "194341/194341 [==============================] - 1056s 5ms/sample - loss: 4.4232 - pitch_loss: 2.6536 - duration_loss: 0.7896 - velocity_loss: 0.9800 - pitch_accuracy: 0.3137 - duration_accuracy: 0.7541 - velocity_accuracy: 0.6678\n",
      "Epoch 5/100\n",
      "194341/194341 [==============================] - 1057s 5ms/sample - loss: 4.0086 - pitch_loss: 2.3919 - duration_loss: 0.7185 - velocity_loss: 0.8984 - pitch_accuracy: 0.3728 - duration_accuracy: 0.7713 - velocity_accuracy: 0.6936\n",
      "Epoch 6/100\n",
      "194341/194341 [==============================] - 1057s 5ms/sample - loss: 3.6101 - pitch_loss: 2.1413 - duration_loss: 0.6496 - velocity_loss: 0.8193 - pitch_accuracy: 0.4302 - duration_accuracy: 0.7904 - velocity_accuracy: 0.7197\n",
      "Epoch 7/100\n",
      "194341/194341 [==============================] - 1077s 6ms/sample - loss: 3.2303 - pitch_loss: 1.9002 - duration_loss: 0.5847 - velocity_loss: 0.7457 - pitch_accuracy: 0.4872 - duration_accuracy: 0.8078 - velocity_accuracy: 0.7424\n",
      "Epoch 8/100\n",
      "194341/194341 [==============================] - 1085s 6ms/sample - loss: 2.8917 - pitch_loss: 1.6881 - duration_loss: 0.5247 - velocity_loss: 0.6792 - pitch_accuracy: 0.5392 - duration_accuracy: 0.8264 - velocity_accuracy: 0.7648\n",
      "Epoch 9/100\n",
      "194341/194341 [==============================] - 1094s 6ms/sample - loss: 2.6134 - pitch_loss: 1.5139 - duration_loss: 0.4762 - velocity_loss: 0.6238 - pitch_accuracy: 0.5819 - duration_accuracy: 0.8405 - velocity_accuracy: 0.7844\n",
      "Epoch 10/100\n",
      "194341/194341 [==============================] - 1094s 6ms/sample - loss: 2.3400 - pitch_loss: 1.3410 - duration_loss: 0.4308 - velocity_loss: 0.5685 - pitch_accuracy: 0.6240 - duration_accuracy: 0.8542 - velocity_accuracy: 0.8022\n",
      "Epoch 11/100\n",
      "194341/194341 [==============================] - 1094s 6ms/sample - loss: 2.1248 - pitch_loss: 1.2092 - duration_loss: 0.3927 - velocity_loss: 0.5226 - pitch_accuracy: 0.6551 - duration_accuracy: 0.8657 - velocity_accuracy: 0.8186\n",
      "Epoch 12/100\n",
      "194341/194341 [==============================] - 1094s 6ms/sample - loss: 1.9385 - pitch_loss: 1.0983 - duration_loss: 0.3591 - velocity_loss: 0.4810 - pitch_accuracy: 0.6832 - duration_accuracy: 0.8763 - velocity_accuracy: 0.8314\n",
      "Epoch 13/100\n",
      "194341/194341 [==============================] - 1095s 6ms/sample - loss: 1.8048 - pitch_loss: 1.0114 - duration_loss: 0.3365 - velocity_loss: 0.4576 - pitch_accuracy: 0.7041 - duration_accuracy: 0.8837 - velocity_accuracy: 0.8401\n",
      "Epoch 14/100\n",
      "194341/194341 [==============================] - 1074s 6ms/sample - loss: 1.6657 - pitch_loss: 0.9284 - duration_loss: 0.3114 - velocity_loss: 0.4264 - pitch_accuracy: 0.7257 - duration_accuracy: 0.8910 - velocity_accuracy: 0.8496\n",
      "Epoch 15/100\n",
      "194341/194341 [==============================] - 1064s 5ms/sample - loss: 1.5028 - pitch_loss: 0.8313 - duration_loss: 0.2827 - velocity_loss: 0.3890 - pitch_accuracy: 0.7511 - duration_accuracy: 0.9015 - velocity_accuracy: 0.8628\n",
      "Epoch 16/100\n",
      "194341/194341 [==============================] - 1064s 5ms/sample - loss: 1.4353 - pitch_loss: 0.7881 - duration_loss: 0.2736 - velocity_loss: 0.3737 - pitch_accuracy: 0.7621 - duration_accuracy: 0.9039 - velocity_accuracy: 0.8677\n",
      "Epoch 17/100\n",
      "194341/194341 [==============================] - 1071s 6ms/sample - loss: 1.3975 - pitch_loss: 0.7661 - duration_loss: 0.2649 - velocity_loss: 0.3667 - pitch_accuracy: 0.7671 - duration_accuracy: 0.9067 - velocity_accuracy: 0.8706\n",
      "Epoch 18/100\n",
      "194341/194341 [==============================] - 1083s 6ms/sample - loss: 1.3251 - pitch_loss: 0.7223 - duration_loss: 0.2536 - velocity_loss: 0.3491 - pitch_accuracy: 0.7800 - duration_accuracy: 0.9102 - velocity_accuracy: 0.8773\n",
      "Epoch 19/100\n",
      "194341/194341 [==============================] - 1056s 5ms/sample - loss: 1.1756 - pitch_loss: 0.6347 - duration_loss: 0.2270 - velocity_loss: 0.3139 - pitch_accuracy: 0.8041 - duration_accuracy: 0.9193 - velocity_accuracy: 0.8889\n",
      "Epoch 20/100\n",
      "194341/194341 [==============================] - 1056s 5ms/sample - loss: 1.1453 - pitch_loss: 0.6164 - duration_loss: 0.2221 - velocity_loss: 0.3071 - pitch_accuracy: 0.8089 - duration_accuracy: 0.9214 - velocity_accuracy: 0.8909\n",
      "Epoch 21/100\n",
      "194341/194341 [==============================] - 1055s 5ms/sample - loss: 1.1776 - pitch_loss: 0.6373 - duration_loss: 0.2297 - velocity_loss: 0.3107 - pitch_accuracy: 0.8015 - duration_accuracy: 0.9181 - velocity_accuracy: 0.8897\n",
      "Epoch 22/100\n",
      "194341/194341 [==============================] - 1056s 5ms/sample - loss: 1.0563 - pitch_loss: 0.5654 - duration_loss: 0.2072 - velocity_loss: 0.2842 - pitch_accuracy: 0.8242 - duration_accuracy: 0.9261 - velocity_accuracy: 0.8984\n",
      "Epoch 23/100\n",
      "194341/194341 [==============================] - 1056s 5ms/sample - loss: 1.0070 - pitch_loss: 0.5378 - duration_loss: 0.1976 - velocity_loss: 0.2721 - pitch_accuracy: 0.8315 - duration_accuracy: 0.9303 - velocity_accuracy: 0.9041\n",
      "Epoch 24/100\n",
      "194341/194341 [==============================] - 1056s 5ms/sample - loss: 1.0655 - pitch_loss: 0.5703 - duration_loss: 0.2077 - velocity_loss: 0.2878 - pitch_accuracy: 0.8212 - duration_accuracy: 0.9263 - velocity_accuracy: 0.8981\n",
      "Epoch 25/100\n",
      "194341/194341 [==============================] - 1056s 5ms/sample - loss: 0.9241 - pitch_loss: 0.4897 - duration_loss: 0.1828 - velocity_loss: 0.2517 - pitch_accuracy: 0.8447 - duration_accuracy: 0.9349 - velocity_accuracy: 0.9110\n",
      "Epoch 26/100\n",
      "194341/194341 [==============================] - 1056s 5ms/sample - loss: 0.9186 - pitch_loss: 0.4842 - duration_loss: 0.1833 - velocity_loss: 0.2512 - pitch_accuracy: 0.8465 - duration_accuracy: 0.9347 - velocity_accuracy: 0.9109\n",
      "Epoch 27/100\n",
      "194341/194341 [==============================] - 1057s 5ms/sample - loss: 0.9122 - pitch_loss: 0.4834 - duration_loss: 0.1785 - velocity_loss: 0.2511 - pitch_accuracy: 0.8470 - duration_accuracy: 0.9363 - velocity_accuracy: 0.9110\n",
      "Epoch 28/100\n",
      "194341/194341 [==============================] - 1056s 5ms/sample - loss: 0.8776 - pitch_loss: 0.4619 - duration_loss: 0.1765 - velocity_loss: 0.2395 - pitch_accuracy: 0.8539 - duration_accuracy: 0.9372 - velocity_accuracy: 0.9153\n",
      "Epoch 29/100\n",
      "194341/194341 [==============================] - 1056s 5ms/sample - loss: 0.8576 - pitch_loss: 0.4508 - duration_loss: 0.1729 - velocity_loss: 0.2341 - pitch_accuracy: 0.8564 - duration_accuracy: 0.9382 - velocity_accuracy: 0.9177\n",
      "Epoch 30/100\n",
      "194341/194341 [==============================] - 1056s 5ms/sample - loss: 0.8275 - pitch_loss: 0.4348 - duration_loss: 0.1658 - velocity_loss: 0.2271 - pitch_accuracy: 0.8615 - duration_accuracy: 0.9410 - velocity_accuracy: 0.9191\n",
      "Epoch 31/100\n",
      "194341/194341 [==============================] - 1055s 5ms/sample - loss: 0.7843 - pitch_loss: 0.4098 - duration_loss: 0.1569 - velocity_loss: 0.2177 - pitch_accuracy: 0.8683 - duration_accuracy: 0.9442 - velocity_accuracy: 0.9233\n",
      "Epoch 32/100\n",
      "194341/194341 [==============================] - 1055s 5ms/sample - loss: 0.7977 - pitch_loss: 0.4175 - duration_loss: 0.1591 - velocity_loss: 0.2213 - pitch_accuracy: 0.8673 - duration_accuracy: 0.9434 - velocity_accuracy: 0.9219\n",
      "Epoch 33/100\n",
      "194341/194341 [==============================] - 1056s 5ms/sample - loss: 0.7433 - pitch_loss: 0.3868 - duration_loss: 0.1501 - velocity_loss: 0.2068 - pitch_accuracy: 0.8767 - duration_accuracy: 0.9468 - velocity_accuracy: 0.9276\n",
      "Epoch 34/100\n"
     ]
    },
    {
     "name": "stdout",
     "output_type": "stream",
     "text": [
      "194341/194341 [==============================] - 1055s 5ms/sample - loss: 0.7371 - pitch_loss: 0.3829 - duration_loss: 0.1496 - velocity_loss: 0.2047 - pitch_accuracy: 0.8771 - duration_accuracy: 0.9468 - velocity_accuracy: 0.9271\n",
      "Epoch 35/100\n",
      "194341/194341 [==============================] - 1056s 5ms/sample - loss: 0.7000 - pitch_loss: 0.3625 - duration_loss: 0.1430 - velocity_loss: 0.1945 - pitch_accuracy: 0.8838 - duration_accuracy: 0.9497 - velocity_accuracy: 0.9320\n",
      "Epoch 36/100\n",
      "194341/194341 [==============================] - 1054s 5ms/sample - loss: 0.7205 - pitch_loss: 0.3787 - duration_loss: 0.1447 - velocity_loss: 0.1972 - pitch_accuracy: 0.8794 - duration_accuracy: 0.9485 - velocity_accuracy: 0.9301\n",
      "Epoch 37/100\n",
      "194341/194341 [==============================] - 1055s 5ms/sample - loss: 0.6911 - pitch_loss: 0.3577 - duration_loss: 0.1419 - velocity_loss: 0.1917 - pitch_accuracy: 0.8851 - duration_accuracy: 0.9499 - velocity_accuracy: 0.9331\n",
      "Epoch 38/100\n",
      "194341/194341 [==============================] - 1055s 5ms/sample - loss: 0.6458 - pitch_loss: 0.3343 - duration_loss: 0.1325 - velocity_loss: 0.1793 - pitch_accuracy: 0.8929 - duration_accuracy: 0.9534 - velocity_accuracy: 0.9367\n",
      "Epoch 39/100\n",
      "194341/194341 [==============================] - 1054s 5ms/sample - loss: 0.7036 - pitch_loss: 0.3718 - duration_loss: 0.1409 - velocity_loss: 0.1910 - pitch_accuracy: 0.8824 - duration_accuracy: 0.9507 - velocity_accuracy: 0.9332\n",
      "Epoch 40/100\n",
      "194341/194341 [==============================] - 1057s 5ms/sample - loss: 0.5865 - pitch_loss: 0.3011 - duration_loss: 0.1210 - velocity_loss: 0.1648 - pitch_accuracy: 0.9027 - duration_accuracy: 0.9572 - velocity_accuracy: 0.9425\n",
      "Epoch 41/100\n",
      "194341/194341 [==============================] - 1056s 5ms/sample - loss: 0.6655 - pitch_loss: 0.3494 - duration_loss: 0.1354 - velocity_loss: 0.1809 - pitch_accuracy: 0.8896 - duration_accuracy: 0.9526 - velocity_accuracy: 0.9365\n",
      "Epoch 42/100\n",
      "194341/194341 [==============================] - 1056s 5ms/sample - loss: 0.5924 - pitch_loss: 0.3074 - duration_loss: 0.1201 - velocity_loss: 0.1654 - pitch_accuracy: 0.9015 - duration_accuracy: 0.9571 - velocity_accuracy: 0.9422\n",
      "Epoch 43/100\n",
      "194341/194341 [==============================] - 1056s 5ms/sample - loss: 0.7850 - pitch_loss: 0.4197 - duration_loss: 0.1565 - velocity_loss: 0.2092 - pitch_accuracy: 0.8690 - duration_accuracy: 0.9457 - velocity_accuracy: 0.9280\n",
      "Epoch 44/100\n",
      "194341/194341 [==============================] - 1055s 5ms/sample - loss: 0.6945 - pitch_loss: 0.3731 - duration_loss: 0.1386 - velocity_loss: 0.1830 - pitch_accuracy: 0.8808 - duration_accuracy: 0.9505 - velocity_accuracy: 0.9355\n",
      "Epoch 45/100\n",
      "194341/194341 [==============================] - 1053s 5ms/sample - loss: 0.6168 - pitch_loss: 0.3268 - duration_loss: 0.1245 - velocity_loss: 0.1659 - pitch_accuracy: 0.8946 - duration_accuracy: 0.9553 - velocity_accuracy: 0.9414\n",
      "Epoch 46/100\n",
      "194341/194341 [==============================] - 1054s 5ms/sample - loss: 0.5712 - pitch_loss: 0.2947 - duration_loss: 0.1180 - velocity_loss: 0.1586 - pitch_accuracy: 0.9052 - duration_accuracy: 0.9581 - velocity_accuracy: 0.9447\n",
      "Epoch 47/100\n",
      "194341/194341 [==============================] - 1054s 5ms/sample - loss: 0.6051 - pitch_loss: 0.3156 - duration_loss: 0.1222 - velocity_loss: 0.1678 - pitch_accuracy: 0.8984 - duration_accuracy: 0.9569 - velocity_accuracy: 0.9415\n",
      "Epoch 48/100\n",
      "194341/194341 [==============================] - 1054s 5ms/sample - loss: 0.5873 - pitch_loss: 0.3032 - duration_loss: 0.1190 - velocity_loss: 0.1652 - pitch_accuracy: 0.9025 - duration_accuracy: 0.9576 - velocity_accuracy: 0.9429\n",
      "Epoch 49/100\n",
      "194341/194341 [==============================] - 1056s 5ms/sample - loss: 0.5373 - pitch_loss: 0.2767 - duration_loss: 0.1099 - velocity_loss: 0.1509 - pitch_accuracy: 0.9112 - duration_accuracy: 0.9615 - velocity_accuracy: 0.9470\n",
      "Epoch 50/100\n",
      "194341/194341 [==============================] - 1055s 5ms/sample - loss: 0.5511 - pitch_loss: 0.2854 - duration_loss: 0.1134 - velocity_loss: 0.1526 - pitch_accuracy: 0.9085 - duration_accuracy: 0.9600 - velocity_accuracy: 0.9468\n",
      "Epoch 51/100\n",
      "194341/194341 [==============================] - 1058s 5ms/sample - loss: 0.5747 - pitch_loss: 0.2969 - duration_loss: 0.1168 - velocity_loss: 0.1611 - pitch_accuracy: 0.9045 - duration_accuracy: 0.9590 - velocity_accuracy: 0.9437\n",
      "Epoch 52/100\n",
      "194341/194341 [==============================] - 1058s 5ms/sample - loss: 0.6236 - pitch_loss: 0.3277 - duration_loss: 0.1272 - velocity_loss: 0.1688 - pitch_accuracy: 0.8959 - duration_accuracy: 0.9557 - velocity_accuracy: 0.9410\n",
      "Epoch 53/100\n",
      "194341/194341 [==============================] - 1060s 5ms/sample - loss: 0.5064 - pitch_loss: 0.2598 - duration_loss: 0.1049 - velocity_loss: 0.1417 - pitch_accuracy: 0.9171 - duration_accuracy: 0.9637 - velocity_accuracy: 0.9505\n",
      "Epoch 54/100\n",
      "194341/194341 [==============================] - 1058s 5ms/sample - loss: 0.5213 - pitch_loss: 0.2697 - duration_loss: 0.1066 - velocity_loss: 0.1450 - pitch_accuracy: 0.9135 - duration_accuracy: 0.9625 - velocity_accuracy: 0.9489\n",
      "Epoch 55/100\n",
      "194341/194341 [==============================] - 1058s 5ms/sample - loss: 0.5471 - pitch_loss: 0.2857 - duration_loss: 0.1118 - velocity_loss: 0.1498 - pitch_accuracy: 0.9090 - duration_accuracy: 0.9606 - velocity_accuracy: 0.9486\n",
      "Epoch 56/100\n",
      "194341/194341 [==============================] - 1059s 5ms/sample - loss: 0.5387 - pitch_loss: 0.2821 - duration_loss: 0.1124 - velocity_loss: 0.1443 - pitch_accuracy: 0.9093 - duration_accuracy: 0.9608 - velocity_accuracy: 0.9492\n",
      "Epoch 57/100\n",
      "194341/194341 [==============================] - 1059s 5ms/sample - loss: 0.5278 - pitch_loss: 0.2732 - duration_loss: 0.1083 - velocity_loss: 0.1464 - pitch_accuracy: 0.9124 - duration_accuracy: 0.9622 - velocity_accuracy: 0.9490\n",
      "Epoch 58/100\n",
      "194341/194341 [==============================] - 1059s 5ms/sample - loss: 0.5291 - pitch_loss: 0.2747 - duration_loss: 0.1096 - velocity_loss: 0.1451 - pitch_accuracy: 0.9115 - duration_accuracy: 0.9616 - velocity_accuracy: 0.9492\n",
      "Epoch 59/100\n",
      "194341/194341 [==============================] - 1059s 5ms/sample - loss: 0.4467 - pitch_loss: 0.2288 - duration_loss: 0.0926 - velocity_loss: 0.1255 - pitch_accuracy: 0.9268 - duration_accuracy: 0.9676 - velocity_accuracy: 0.9568\n",
      "Epoch 60/100\n",
      "194341/194341 [==============================] - 1059s 5ms/sample - loss: 0.4478 - pitch_loss: 0.2275 - duration_loss: 0.0934 - velocity_loss: 0.1271 - pitch_accuracy: 0.9270 - duration_accuracy: 0.9672 - velocity_accuracy: 0.9560\n",
      "Epoch 61/100\n",
      "155648/194341 [=======================>......] - ETA: 3:32 - loss: 0.4504 - pitch_loss: 0.2289 - duration_loss: 0.0935 - velocity_loss: 0.1279 - pitch_accuracy: 0.9263 - duration_accuracy: 0.9674 - velocity_accuracy: 0.9556"
     ]
    },
    {
     "ename": "KeyboardInterrupt",
     "evalue": "",
     "output_type": "error",
     "traceback": [
      "\u001b[1;31m---------------------------------------------------------------------------\u001b[0m",
      "\u001b[1;31mKeyboardInterrupt\u001b[0m                         Traceback (most recent call last)",
      "\u001b[1;32m<ipython-input-15-409be030d9eb>\u001b[0m in \u001b[0;36m<module>\u001b[1;34m\u001b[0m\n\u001b[0;32m      2\u001b[0m                     \u001b[0mepochs\u001b[0m\u001b[1;33m=\u001b[0m\u001b[1;36m100\u001b[0m\u001b[1;33m,\u001b[0m \u001b[0mbatch_size\u001b[0m\u001b[1;33m=\u001b[0m\u001b[1;36m128\u001b[0m\u001b[1;33m,\u001b[0m\u001b[1;33m\u001b[0m\u001b[1;33m\u001b[0m\u001b[0m\n\u001b[0;32m      3\u001b[0m                     \u001b[0mcallbacks\u001b[0m\u001b[1;33m=\u001b[0m\u001b[0mcallbacks_list\u001b[0m\u001b[1;33m,\u001b[0m\u001b[1;33m\u001b[0m\u001b[1;33m\u001b[0m\u001b[0m\n\u001b[1;32m----> 4\u001b[1;33m                     \u001b[0mshuffle\u001b[0m\u001b[1;33m=\u001b[0m\u001b[1;32mTrue\u001b[0m\u001b[1;33m\u001b[0m\u001b[1;33m\u001b[0m\u001b[0m\n\u001b[0m\u001b[0;32m      5\u001b[0m                    )\n",
      "\u001b[1;32m~\\anaconda3\\envs\\ml\\lib\\site-packages\\tensorflow_core\\python\\keras\\engine\\training.py\u001b[0m in \u001b[0;36mfit\u001b[1;34m(self, x, y, batch_size, epochs, verbose, callbacks, validation_split, validation_data, shuffle, class_weight, sample_weight, initial_epoch, steps_per_epoch, validation_steps, validation_freq, max_queue_size, workers, use_multiprocessing, **kwargs)\u001b[0m\n\u001b[0;32m    817\u001b[0m         \u001b[0mmax_queue_size\u001b[0m\u001b[1;33m=\u001b[0m\u001b[0mmax_queue_size\u001b[0m\u001b[1;33m,\u001b[0m\u001b[1;33m\u001b[0m\u001b[1;33m\u001b[0m\u001b[0m\n\u001b[0;32m    818\u001b[0m         \u001b[0mworkers\u001b[0m\u001b[1;33m=\u001b[0m\u001b[0mworkers\u001b[0m\u001b[1;33m,\u001b[0m\u001b[1;33m\u001b[0m\u001b[1;33m\u001b[0m\u001b[0m\n\u001b[1;32m--> 819\u001b[1;33m         use_multiprocessing=use_multiprocessing)\n\u001b[0m\u001b[0;32m    820\u001b[0m \u001b[1;33m\u001b[0m\u001b[0m\n\u001b[0;32m    821\u001b[0m   def evaluate(self,\n",
      "\u001b[1;32m~\\anaconda3\\envs\\ml\\lib\\site-packages\\tensorflow_core\\python\\keras\\engine\\training_v2.py\u001b[0m in \u001b[0;36mfit\u001b[1;34m(self, model, x, y, batch_size, epochs, verbose, callbacks, validation_split, validation_data, shuffle, class_weight, sample_weight, initial_epoch, steps_per_epoch, validation_steps, validation_freq, max_queue_size, workers, use_multiprocessing, **kwargs)\u001b[0m\n\u001b[0;32m    340\u001b[0m                 \u001b[0mmode\u001b[0m\u001b[1;33m=\u001b[0m\u001b[0mModeKeys\u001b[0m\u001b[1;33m.\u001b[0m\u001b[0mTRAIN\u001b[0m\u001b[1;33m,\u001b[0m\u001b[1;33m\u001b[0m\u001b[1;33m\u001b[0m\u001b[0m\n\u001b[0;32m    341\u001b[0m                 \u001b[0mtraining_context\u001b[0m\u001b[1;33m=\u001b[0m\u001b[0mtraining_context\u001b[0m\u001b[1;33m,\u001b[0m\u001b[1;33m\u001b[0m\u001b[1;33m\u001b[0m\u001b[0m\n\u001b[1;32m--> 342\u001b[1;33m                 total_epochs=epochs)\n\u001b[0m\u001b[0;32m    343\u001b[0m             \u001b[0mcbks\u001b[0m\u001b[1;33m.\u001b[0m\u001b[0mmake_logs\u001b[0m\u001b[1;33m(\u001b[0m\u001b[0mmodel\u001b[0m\u001b[1;33m,\u001b[0m \u001b[0mepoch_logs\u001b[0m\u001b[1;33m,\u001b[0m \u001b[0mtraining_result\u001b[0m\u001b[1;33m,\u001b[0m \u001b[0mModeKeys\u001b[0m\u001b[1;33m.\u001b[0m\u001b[0mTRAIN\u001b[0m\u001b[1;33m)\u001b[0m\u001b[1;33m\u001b[0m\u001b[1;33m\u001b[0m\u001b[0m\n\u001b[0;32m    344\u001b[0m \u001b[1;33m\u001b[0m\u001b[0m\n",
      "\u001b[1;32m~\\anaconda3\\envs\\ml\\lib\\site-packages\\tensorflow_core\\python\\keras\\engine\\training_v2.py\u001b[0m in \u001b[0;36mrun_one_epoch\u001b[1;34m(model, iterator, execution_function, dataset_size, batch_size, strategy, steps_per_epoch, num_samples, mode, training_context, total_epochs)\u001b[0m\n\u001b[0;32m    126\u001b[0m         step=step, mode=mode, size=current_batch_size) as batch_logs:\n\u001b[0;32m    127\u001b[0m       \u001b[1;32mtry\u001b[0m\u001b[1;33m:\u001b[0m\u001b[1;33m\u001b[0m\u001b[1;33m\u001b[0m\u001b[0m\n\u001b[1;32m--> 128\u001b[1;33m         \u001b[0mbatch_outs\u001b[0m \u001b[1;33m=\u001b[0m \u001b[0mexecution_function\u001b[0m\u001b[1;33m(\u001b[0m\u001b[0miterator\u001b[0m\u001b[1;33m)\u001b[0m\u001b[1;33m\u001b[0m\u001b[1;33m\u001b[0m\u001b[0m\n\u001b[0m\u001b[0;32m    129\u001b[0m       \u001b[1;32mexcept\u001b[0m \u001b[1;33m(\u001b[0m\u001b[0mStopIteration\u001b[0m\u001b[1;33m,\u001b[0m \u001b[0merrors\u001b[0m\u001b[1;33m.\u001b[0m\u001b[0mOutOfRangeError\u001b[0m\u001b[1;33m)\u001b[0m\u001b[1;33m:\u001b[0m\u001b[1;33m\u001b[0m\u001b[1;33m\u001b[0m\u001b[0m\n\u001b[0;32m    130\u001b[0m         \u001b[1;31m# TODO(kaftan): File bug about tf function and errors.OutOfRangeError?\u001b[0m\u001b[1;33m\u001b[0m\u001b[1;33m\u001b[0m\u001b[1;33m\u001b[0m\u001b[0m\n",
      "\u001b[1;32m~\\anaconda3\\envs\\ml\\lib\\site-packages\\tensorflow_core\\python\\keras\\engine\\training_v2_utils.py\u001b[0m in \u001b[0;36mexecution_function\u001b[1;34m(input_fn)\u001b[0m\n\u001b[0;32m     96\u001b[0m     \u001b[1;31m# `numpy` translates Tensors to values in Eager mode.\u001b[0m\u001b[1;33m\u001b[0m\u001b[1;33m\u001b[0m\u001b[1;33m\u001b[0m\u001b[0m\n\u001b[0;32m     97\u001b[0m     return nest.map_structure(_non_none_constant_value,\n\u001b[1;32m---> 98\u001b[1;33m                               distributed_function(input_fn))\n\u001b[0m\u001b[0;32m     99\u001b[0m \u001b[1;33m\u001b[0m\u001b[0m\n\u001b[0;32m    100\u001b[0m   \u001b[1;32mreturn\u001b[0m \u001b[0mexecution_function\u001b[0m\u001b[1;33m\u001b[0m\u001b[1;33m\u001b[0m\u001b[0m\n",
      "\u001b[1;32m~\\anaconda3\\envs\\ml\\lib\\site-packages\\tensorflow_core\\python\\eager\\def_function.py\u001b[0m in \u001b[0;36m__call__\u001b[1;34m(self, *args, **kwds)\u001b[0m\n\u001b[0;32m    566\u001b[0m         \u001b[0mxla_context\u001b[0m\u001b[1;33m.\u001b[0m\u001b[0mExit\u001b[0m\u001b[1;33m(\u001b[0m\u001b[1;33m)\u001b[0m\u001b[1;33m\u001b[0m\u001b[1;33m\u001b[0m\u001b[0m\n\u001b[0;32m    567\u001b[0m     \u001b[1;32melse\u001b[0m\u001b[1;33m:\u001b[0m\u001b[1;33m\u001b[0m\u001b[1;33m\u001b[0m\u001b[0m\n\u001b[1;32m--> 568\u001b[1;33m       \u001b[0mresult\u001b[0m \u001b[1;33m=\u001b[0m \u001b[0mself\u001b[0m\u001b[1;33m.\u001b[0m\u001b[0m_call\u001b[0m\u001b[1;33m(\u001b[0m\u001b[1;33m*\u001b[0m\u001b[0margs\u001b[0m\u001b[1;33m,\u001b[0m \u001b[1;33m**\u001b[0m\u001b[0mkwds\u001b[0m\u001b[1;33m)\u001b[0m\u001b[1;33m\u001b[0m\u001b[1;33m\u001b[0m\u001b[0m\n\u001b[0m\u001b[0;32m    569\u001b[0m \u001b[1;33m\u001b[0m\u001b[0m\n\u001b[0;32m    570\u001b[0m     \u001b[1;32mif\u001b[0m \u001b[0mtracing_count\u001b[0m \u001b[1;33m==\u001b[0m \u001b[0mself\u001b[0m\u001b[1;33m.\u001b[0m\u001b[0m_get_tracing_count\u001b[0m\u001b[1;33m(\u001b[0m\u001b[1;33m)\u001b[0m\u001b[1;33m:\u001b[0m\u001b[1;33m\u001b[0m\u001b[1;33m\u001b[0m\u001b[0m\n",
      "\u001b[1;32m~\\anaconda3\\envs\\ml\\lib\\site-packages\\tensorflow_core\\python\\eager\\def_function.py\u001b[0m in \u001b[0;36m_call\u001b[1;34m(self, *args, **kwds)\u001b[0m\n\u001b[0;32m    597\u001b[0m       \u001b[1;31m# In this case we have created variables on the first call, so we run the\u001b[0m\u001b[1;33m\u001b[0m\u001b[1;33m\u001b[0m\u001b[1;33m\u001b[0m\u001b[0m\n\u001b[0;32m    598\u001b[0m       \u001b[1;31m# defunned version which is guaranteed to never create variables.\u001b[0m\u001b[1;33m\u001b[0m\u001b[1;33m\u001b[0m\u001b[1;33m\u001b[0m\u001b[0m\n\u001b[1;32m--> 599\u001b[1;33m       \u001b[1;32mreturn\u001b[0m \u001b[0mself\u001b[0m\u001b[1;33m.\u001b[0m\u001b[0m_stateless_fn\u001b[0m\u001b[1;33m(\u001b[0m\u001b[1;33m*\u001b[0m\u001b[0margs\u001b[0m\u001b[1;33m,\u001b[0m \u001b[1;33m**\u001b[0m\u001b[0mkwds\u001b[0m\u001b[1;33m)\u001b[0m  \u001b[1;31m# pylint: disable=not-callable\u001b[0m\u001b[1;33m\u001b[0m\u001b[1;33m\u001b[0m\u001b[0m\n\u001b[0m\u001b[0;32m    600\u001b[0m     \u001b[1;32melif\u001b[0m \u001b[0mself\u001b[0m\u001b[1;33m.\u001b[0m\u001b[0m_stateful_fn\u001b[0m \u001b[1;32mis\u001b[0m \u001b[1;32mnot\u001b[0m \u001b[1;32mNone\u001b[0m\u001b[1;33m:\u001b[0m\u001b[1;33m\u001b[0m\u001b[1;33m\u001b[0m\u001b[0m\n\u001b[0;32m    601\u001b[0m       \u001b[1;31m# Release the lock early so that multiple threads can perform the call\u001b[0m\u001b[1;33m\u001b[0m\u001b[1;33m\u001b[0m\u001b[1;33m\u001b[0m\u001b[0m\n",
      "\u001b[1;32m~\\anaconda3\\envs\\ml\\lib\\site-packages\\tensorflow_core\\python\\eager\\function.py\u001b[0m in \u001b[0;36m__call__\u001b[1;34m(self, *args, **kwargs)\u001b[0m\n\u001b[0;32m   2361\u001b[0m     \u001b[1;32mwith\u001b[0m \u001b[0mself\u001b[0m\u001b[1;33m.\u001b[0m\u001b[0m_lock\u001b[0m\u001b[1;33m:\u001b[0m\u001b[1;33m\u001b[0m\u001b[1;33m\u001b[0m\u001b[0m\n\u001b[0;32m   2362\u001b[0m       \u001b[0mgraph_function\u001b[0m\u001b[1;33m,\u001b[0m \u001b[0margs\u001b[0m\u001b[1;33m,\u001b[0m \u001b[0mkwargs\u001b[0m \u001b[1;33m=\u001b[0m \u001b[0mself\u001b[0m\u001b[1;33m.\u001b[0m\u001b[0m_maybe_define_function\u001b[0m\u001b[1;33m(\u001b[0m\u001b[0margs\u001b[0m\u001b[1;33m,\u001b[0m \u001b[0mkwargs\u001b[0m\u001b[1;33m)\u001b[0m\u001b[1;33m\u001b[0m\u001b[1;33m\u001b[0m\u001b[0m\n\u001b[1;32m-> 2363\u001b[1;33m     \u001b[1;32mreturn\u001b[0m \u001b[0mgraph_function\u001b[0m\u001b[1;33m.\u001b[0m\u001b[0m_filtered_call\u001b[0m\u001b[1;33m(\u001b[0m\u001b[0margs\u001b[0m\u001b[1;33m,\u001b[0m \u001b[0mkwargs\u001b[0m\u001b[1;33m)\u001b[0m  \u001b[1;31m# pylint: disable=protected-access\u001b[0m\u001b[1;33m\u001b[0m\u001b[1;33m\u001b[0m\u001b[0m\n\u001b[0m\u001b[0;32m   2364\u001b[0m \u001b[1;33m\u001b[0m\u001b[0m\n\u001b[0;32m   2365\u001b[0m   \u001b[1;33m@\u001b[0m\u001b[0mproperty\u001b[0m\u001b[1;33m\u001b[0m\u001b[1;33m\u001b[0m\u001b[0m\n",
      "\u001b[1;32m~\\anaconda3\\envs\\ml\\lib\\site-packages\\tensorflow_core\\python\\eager\\function.py\u001b[0m in \u001b[0;36m_filtered_call\u001b[1;34m(self, args, kwargs)\u001b[0m\n\u001b[0;32m   1609\u001b[0m          if isinstance(t, (ops.Tensor,\n\u001b[0;32m   1610\u001b[0m                            resource_variable_ops.BaseResourceVariable))),\n\u001b[1;32m-> 1611\u001b[1;33m         self.captured_inputs)\n\u001b[0m\u001b[0;32m   1612\u001b[0m \u001b[1;33m\u001b[0m\u001b[0m\n\u001b[0;32m   1613\u001b[0m   \u001b[1;32mdef\u001b[0m \u001b[0m_call_flat\u001b[0m\u001b[1;33m(\u001b[0m\u001b[0mself\u001b[0m\u001b[1;33m,\u001b[0m \u001b[0margs\u001b[0m\u001b[1;33m,\u001b[0m \u001b[0mcaptured_inputs\u001b[0m\u001b[1;33m,\u001b[0m \u001b[0mcancellation_manager\u001b[0m\u001b[1;33m=\u001b[0m\u001b[1;32mNone\u001b[0m\u001b[1;33m)\u001b[0m\u001b[1;33m:\u001b[0m\u001b[1;33m\u001b[0m\u001b[1;33m\u001b[0m\u001b[0m\n",
      "\u001b[1;32m~\\anaconda3\\envs\\ml\\lib\\site-packages\\tensorflow_core\\python\\eager\\function.py\u001b[0m in \u001b[0;36m_call_flat\u001b[1;34m(self, args, captured_inputs, cancellation_manager)\u001b[0m\n\u001b[0;32m   1690\u001b[0m       \u001b[1;31m# No tape is watching; skip to running the function.\u001b[0m\u001b[1;33m\u001b[0m\u001b[1;33m\u001b[0m\u001b[1;33m\u001b[0m\u001b[0m\n\u001b[0;32m   1691\u001b[0m       return self._build_call_outputs(self._inference_function.call(\n\u001b[1;32m-> 1692\u001b[1;33m           ctx, args, cancellation_manager=cancellation_manager))\n\u001b[0m\u001b[0;32m   1693\u001b[0m     forward_backward = self._select_forward_and_backward_functions(\n\u001b[0;32m   1694\u001b[0m         \u001b[0margs\u001b[0m\u001b[1;33m,\u001b[0m\u001b[1;33m\u001b[0m\u001b[1;33m\u001b[0m\u001b[0m\n",
      "\u001b[1;32m~\\anaconda3\\envs\\ml\\lib\\site-packages\\tensorflow_core\\python\\eager\\function.py\u001b[0m in \u001b[0;36mcall\u001b[1;34m(self, ctx, args, cancellation_manager)\u001b[0m\n\u001b[0;32m    543\u001b[0m               \u001b[0minputs\u001b[0m\u001b[1;33m=\u001b[0m\u001b[0margs\u001b[0m\u001b[1;33m,\u001b[0m\u001b[1;33m\u001b[0m\u001b[1;33m\u001b[0m\u001b[0m\n\u001b[0;32m    544\u001b[0m               \u001b[0mattrs\u001b[0m\u001b[1;33m=\u001b[0m\u001b[1;33m(\u001b[0m\u001b[1;34m\"executor_type\"\u001b[0m\u001b[1;33m,\u001b[0m \u001b[0mexecutor_type\u001b[0m\u001b[1;33m,\u001b[0m \u001b[1;34m\"config_proto\"\u001b[0m\u001b[1;33m,\u001b[0m \u001b[0mconfig\u001b[0m\u001b[1;33m)\u001b[0m\u001b[1;33m,\u001b[0m\u001b[1;33m\u001b[0m\u001b[1;33m\u001b[0m\u001b[0m\n\u001b[1;32m--> 545\u001b[1;33m               ctx=ctx)\n\u001b[0m\u001b[0;32m    546\u001b[0m         \u001b[1;32melse\u001b[0m\u001b[1;33m:\u001b[0m\u001b[1;33m\u001b[0m\u001b[1;33m\u001b[0m\u001b[0m\n\u001b[0;32m    547\u001b[0m           outputs = execute.execute_with_cancellation(\n",
      "\u001b[1;32m~\\anaconda3\\envs\\ml\\lib\\site-packages\\tensorflow_core\\python\\eager\\execute.py\u001b[0m in \u001b[0;36mquick_execute\u001b[1;34m(op_name, num_outputs, inputs, attrs, ctx, name)\u001b[0m\n\u001b[0;32m     59\u001b[0m     tensors = pywrap_tensorflow.TFE_Py_Execute(ctx._handle, device_name,\n\u001b[0;32m     60\u001b[0m                                                \u001b[0mop_name\u001b[0m\u001b[1;33m,\u001b[0m \u001b[0minputs\u001b[0m\u001b[1;33m,\u001b[0m \u001b[0mattrs\u001b[0m\u001b[1;33m,\u001b[0m\u001b[1;33m\u001b[0m\u001b[1;33m\u001b[0m\u001b[0m\n\u001b[1;32m---> 61\u001b[1;33m                                                num_outputs)\n\u001b[0m\u001b[0;32m     62\u001b[0m   \u001b[1;32mexcept\u001b[0m \u001b[0mcore\u001b[0m\u001b[1;33m.\u001b[0m\u001b[0m_NotOkStatusException\u001b[0m \u001b[1;32mas\u001b[0m \u001b[0me\u001b[0m\u001b[1;33m:\u001b[0m\u001b[1;33m\u001b[0m\u001b[1;33m\u001b[0m\u001b[0m\n\u001b[0;32m     63\u001b[0m     \u001b[1;32mif\u001b[0m \u001b[0mname\u001b[0m \u001b[1;32mis\u001b[0m \u001b[1;32mnot\u001b[0m \u001b[1;32mNone\u001b[0m\u001b[1;33m:\u001b[0m\u001b[1;33m\u001b[0m\u001b[1;33m\u001b[0m\u001b[0m\n",
      "\u001b[1;31mKeyboardInterrupt\u001b[0m: "
     ]
    }
   ],
   "source": [
    "history = model.fit(network_input, network_output,\n",
    "                    epochs=100, batch_size=128,\n",
    "                    callbacks=callbacks_list,\n",
    "                    shuffle=True\n",
    "                   )"
   ]
  },
  {
   "cell_type": "code",
   "execution_count": 20,
   "metadata": {},
   "outputs": [],
   "source": [
    "import pandas as pd\n",
    "log_data = pd.read_csv(os.path.join(history_folder, 'model_history_log.csv'))"
   ]
  },
  {
   "cell_type": "code",
   "execution_count": 21,
   "metadata": {},
   "outputs": [
    {
     "data": {
      "text/plain": [
       "<matplotlib.axes._subplots.AxesSubplot at 0x2c742ccbdc8>"
      ]
     },
     "execution_count": 21,
     "metadata": {},
     "output_type": "execute_result"
    },
    {
     "data": {
      "image/png": "[encoded data removed]",
      "text/plain": [
       "<Figure size 432x288 with 1 Axes>"
      ]
     },
     "metadata": {
      "image/png": {
       "height": 248,
       "width": 362
      },
      "needs_background": "light"
     },
     "output_type": "display_data"
    }
   ],
   "source": [
    "log_data['loss'].plot()"
   ]
  },
  {
   "cell_type": "code",
   "execution_count": null,
   "metadata": {},
   "outputs": [],
   "source": [
    "input_note_seq, input_duration_seq, input_velocity_seq = build_sequence(64, notes, durations, velocities)"
   ]
  },
  {
   "cell_type": "code",
   "execution_count": null,
   "metadata": {},
   "outputs": [],
   "source": [
    "whole_pattern, gen_pattern = generate_sequence(model, input_note_seq,\n",
    "                                               input_duration_seq,\n",
    "                                               input_velocity_seq,\n",
    "                                               note_to_int,\n",
    "                                               duration_to_int,\n",
    "                                               velocity_to_int,\n",
    "                                               256)"
   ]
  },
  {
   "cell_type": "code",
   "execution_count": null,
   "metadata": {},
   "outputs": [],
   "source": [
    "midi_out_whole = create_midi(whole_pattern, int_to_note, int_to_duration, int_to_velocity)\n",
    "midi_out_gen = create_midi(gen_pattern, int_to_note, int_to_duration, int_to_velocity)"
   ]
  },
  {
   "cell_type": "code",
   "execution_count": null,
   "metadata": {},
   "outputs": [],
   "source": [
    "write_midi(midi_out_whole)"
   ]
  },
  {
   "cell_type": "code",
   "execution_count": null,
   "metadata": {},
   "outputs": [],
   "source": [
    "write_midi(midi_out_gen)"
   ]
  },
  {
   "cell_type": "code",
   "execution_count": null,
   "metadata": {},
   "outputs": [],
   "source": []
  }
 ],
 "metadata": {
  "kernelspec": {
   "display_name": "Python 3",
   "language": "python",
   "name": "python3"
  },
  "language_info": {
   "codemirror_mode": {
    "name": "ipython",
    "version": 3
   },
   "file_extension": ".py",
   "mimetype": "text/x-python",
   "name": "python",
   "nbconvert_exporter": "python",
   "pygments_lexer": "ipython3",
   "version": "3.7.7"
  }
 },
 "nbformat": 4,
 "nbformat_minor": 4
}
