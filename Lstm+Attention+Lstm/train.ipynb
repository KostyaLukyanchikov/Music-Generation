{
 "cells": [
  {
   "cell_type": "code",
   "execution_count": 1,
   "metadata": {},
   "outputs": [
    {
     "name": "stderr",
     "output_type": "stream",
     "text": [
      "Using TensorFlow backend.\n"
     ]
    }
   ],
   "source": [
    "import os\n",
    "import numpy as np\n",
    "import glob\n",
    "import sys\n",
    "import pickle\n",
    "from tqdm import notebook\n",
    "\n",
    "from music21 import corpus, converter, instrument, note, chord\n",
    "from utils import *\n",
    "from generate import *\n",
    "from model import create_network\n",
    "\n",
    "import tensorflow\n",
    "from tensorflow import keras\n",
    "\n",
    "from tensorflow.keras.layers import LSTM, Input, Dropout, Dense, Activation, Embedding, Concatenate, Reshape\n",
    "from tensorflow.keras.layers import Flatten, RepeatVector, Permute, TimeDistributed\n",
    "from tensorflow.keras.layers import Multiply, Lambda, Softmax\n",
    "from tensorflow.compat.v1.keras import backend as K\n",
    "from tensorflow.keras.models import Model\n",
    "from tensorflow.keras.optimizers import Adam\n",
    "from tensorflow.keras.callbacks import ModelCheckpoint, EarlyStopping, TensorBoard\n",
    "from tensorflow.keras.utils import plot_model\n",
    "\n",
    "from keras.utils import np_utils"
   ]
  },
  {
   "cell_type": "code",
   "execution_count": 2,
   "metadata": {},
   "outputs": [],
   "source": [
    "with open('Pickle\\\\beethoven_mozart_n_d_v', 'rb') as f:\n",
    "    ndv = pickle.load(f)\n",
    "with open('Pickle\\\\beethoven_mozart_distincts', 'rb') as f:\n",
    "    distincts = pickle.load(f)\n",
    "with open('Pickle\\\\beethoven_mozart_lookups', 'rb') as f:\n",
    "    lookups = pickle.load(f)"
   ]
  },
  {
   "cell_type": "code",
   "execution_count": 3,
   "metadata": {},
   "outputs": [],
   "source": [
    "notes = ndv[0]\n",
    "durations = ndv[1]\n",
    "velocities = ndv[2]"
   ]
  },
  {
   "cell_type": "code",
   "execution_count": null,
   "metadata": {},
   "outputs": [],
   "source": [
    "network_input, network_output = prepare_sequences(notes, durations, velocities, lookups, distincts, 100)"
   ]
  },
  {
   "cell_type": "code",
   "execution_count": null,
   "metadata": {},
   "outputs": [],
   "source": [
    "network_input[0].shape"
   ]
  },
  {
   "cell_type": "code",
   "execution_count": null,
   "metadata": {},
   "outputs": [],
   "source": [
    "notes, durations, velocities = ndv\n",
    "\n",
    "note_to_int, int_to_note, duration_to_int, int_to_duration, velocity_to_int, int_to_velocity = lookups"
   ]
  },
  {
   "cell_type": "code",
   "execution_count": null,
   "metadata": {},
   "outputs": [],
   "source": [
    "n_notes = distincts[1]\n",
    "n_durations = distincts[3]\n",
    "n_velocities = distincts[5]\n",
    "embed_size = 100\n",
    "rnn_units = 512"
   ]
  },
  {
   "cell_type": "code",
   "execution_count": null,
   "metadata": {},
   "outputs": [],
   "source": [
    "n_durations"
   ]
  },
  {
   "cell_type": "code",
   "execution_count": null,
   "metadata": {
    "scrolled": false
   },
   "outputs": [],
   "source": [
    "model = create_network(n_notes, n_durations, n_velocities, embed_size, rnn_units)\n",
    "model.summary()"
   ]
  },
  {
   "cell_type": "raw",
   "metadata": {},
   "source": [
    "import os     \n",
    "os.environ[\"PATH\"] += os.pathsep + 'C:\\\\Users\\\\Lukya\\\\anaconda3\\\\envs\\\\ml\\\\Library\\\\bin\\\\graphviz'\n",
    "plot_model(model, to_file=r'C:\\\\Users\\\\Lukya\\\\MachineLearning\\\\DataSets\\\\MusicGeneration\\\\Graphs\\\\Model_lstm-lstm.png', show_shapes = True, show_layer_names = True)"
   ]
  },
  {
   "cell_type": "code",
   "execution_count": null,
   "metadata": {},
   "outputs": [],
   "source": [
    "weights_folder = 'Weights'\n",
    "logs_base_dir = \"Logs\"\n",
    "history_folder = \"History\""
   ]
  },
  {
   "cell_type": "code",
   "execution_count": null,
   "metadata": {},
   "outputs": [],
   "source": [
    "callbacks_list = make_callbacks_list(weights_folder, logs_base_dir, history_folder)"
   ]
  },
  {
   "cell_type": "code",
   "execution_count": null,
   "metadata": {},
   "outputs": [],
   "source": [
    "%reload_ext tensorboard\n",
    "os.makedirs(logs_base_dir, exist_ok=True)\n",
    "%tensorboard --logdir {makeWindowsCmdPath(logs_base_dir)} --reload_multifile True"
   ]
  },
  {
   "cell_type": "code",
   "execution_count": null,
   "metadata": {},
   "outputs": [],
   "source": [
    "#model.load_weights(os.path.join(weights_folder, \"weights.h5\"))"
   ]
  },
  {
   "cell_type": "code",
   "execution_count": null,
   "metadata": {
    "scrolled": true
   },
   "outputs": [],
   "source": [
    "history = model.fit(network_input, network_output,\n",
    "                    epochs=60, batch_size=128,\n",
    "                    callbacks=callbacks_list,\n",
    "                    shuffle=True\n",
    "                   )"
   ]
  },
  {
   "cell_type": "code",
   "execution_count": null,
   "metadata": {},
   "outputs": [],
   "source": [
    "import pandas as pd\n",
    "log_data = pd.read_csv(os.path.join(history_folder, 'model_history_log.csv'))"
   ]
  },
  {
   "cell_type": "code",
   "execution_count": null,
   "metadata": {},
   "outputs": [],
   "source": [
    "log_data['loss'].plot()"
   ]
  },
  {
   "cell_type": "code",
   "execution_count": null,
   "metadata": {},
   "outputs": [],
   "source": [
    "input_note_seq, input_duration_seq, input_velocity_seq = build_sequence(64, notes, durations, velocities)"
   ]
  },
  {
   "cell_type": "code",
   "execution_count": null,
   "metadata": {},
   "outputs": [],
   "source": [
    "whole_pattern, gen_pattern = generate_sequence(model, input_note_seq,\n",
    "                                               input_duration_seq,\n",
    "                                               input_velocity_seq,\n",
    "                                               note_to_int,\n",
    "                                               duration_to_int,\n",
    "                                               velocity_to_int,\n",
    "                                               256)"
   ]
  },
  {
   "cell_type": "code",
   "execution_count": null,
   "metadata": {},
   "outputs": [],
   "source": [
    "midi_out_whole = create_midi(whole_pattern, int_to_note, int_to_duration, int_to_velocity)\n",
    "midi_out_gen = create_midi(gen_pattern, int_to_note, int_to_duration, int_to_velocity)"
   ]
  },
  {
   "cell_type": "code",
   "execution_count": null,
   "metadata": {},
   "outputs": [],
   "source": [
    "write_midi(midi_out_whole)"
   ]
  },
  {
   "cell_type": "code",
   "execution_count": null,
   "metadata": {},
   "outputs": [],
   "source": [
    "write_midi(midi_out_gen)"
   ]
  },
  {
   "cell_type": "code",
   "execution_count": null,
   "metadata": {},
   "outputs": [],
   "source": []
  }
 ],
 "metadata": {
  "kernelspec": {
   "display_name": "Python 3",
   "language": "python",
   "name": "python3"
  },
  "language_info": {
   "codemirror_mode": {
    "name": "ipython",
    "version": 3
   },
   "file_extension": ".py",
   "mimetype": "text/x-python",
   "name": "python",
   "nbconvert_exporter": "python",
   "pygments_lexer": "ipython3",
   "version": "3.7.7"
  }
 },
 "nbformat": 4,
 "nbformat_minor": 4
}
